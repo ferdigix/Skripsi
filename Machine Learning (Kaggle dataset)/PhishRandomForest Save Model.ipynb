{
 "cells": [
  {
   "cell_type": "code",
   "execution_count": 1,
   "metadata": {},
   "outputs": [],
   "source": [
    "import pandas as pd\n",
    "import numpy as np\n",
    "import matplotlib\n",
    "import matplotlib.pyplot as plt\n",
    "import seaborn as sb\n",
    "import pickle\n",
    "%matplotlib inline\n",
    "\n",
    "from sklearn.ensemble import RandomForestClassifier\n",
    "\n",
    "matplotlib.rcParams['font.size'] = 14\n",
    "matplotlib.rcParams['figure.figsize'] = (10, 6)"
   ]
  },
  {
   "cell_type": "code",
   "execution_count": 2,
   "metadata": {},
   "outputs": [],
   "source": [
    "data = pd.read_csv(\"./Phishing_Legitimate_full.csv\")"
   ]
  },
  {
   "cell_type": "code",
   "execution_count": 3,
   "metadata": {},
   "outputs": [
    {
     "name": "stdout",
     "output_type": "stream",
     "text": [
      "0\n"
     ]
    }
   ],
   "source": [
    "missing_values_count = data.isnull().sum()\n",
    "total_missing = missing_values_count.sum()\n",
    "print(total_missing)"
   ]
  },
  {
   "cell_type": "code",
   "execution_count": 4,
   "metadata": {},
   "outputs": [],
   "source": [
    "X = data[['NumDots',\n",
    "'SubdomainLevel',\n",
    "'PathLevel',\n",
    "'UrlLength',\n",
    "'NumDash',\n",
    "'NumDashInHostname',\n",
    "'AtSymbol',\n",
    "'TildeSymbol',\n",
    "'NumUnderscore',\n",
    "'NumPercent',\n",
    "'NumQueryComponents',\n",
    "'NumAmpersand',\n",
    "'NumHash',\n",
    "'NumNumericChars',\n",
    "'NoHttps',\n",
    "'RandomString',\n",
    "'IpAddress',\n",
    "'DomainInSubdomains',\n",
    "'DomainInPaths',\n",
    "'HttpsInHostname',\n",
    "'HostnameLength',\n",
    "'PathLength',\n",
    "'QueryLength',\n",
    "'DoubleSlashInPath',\n",
    "'NumSensitiveWords',\n",
    "'EmbeddedBrandName',\n",
    "'PctExtHyperlinks',\n",
    "'PctExtResourceUrls',\n",
    "'ExtFavicon',\n",
    "'InsecureForms',\n",
    "'RelativeFormAction',\n",
    "'ExtFormAction',\n",
    "'AbnormalFormAction',\n",
    "'PctNullSelfRedirectHyperlinks',\n",
    "'FrequentDomainNameMismatch',\n",
    "'FakeLinkInStatusBar',\n",
    "'RightClickDisabled',\n",
    "'PopUpWindow',\n",
    "'SubmitInfoToEmail',\n",
    "'IframeOrFrame',\n",
    "'MissingTitle',\n",
    "'ImagesOnlyInForm',\n",
    "'SubdomainLevelRT',\n",
    "'UrlLengthRT',\n",
    "'PctExtResourceUrlsRT',\n",
    "'AbnormalExtFormActionR',\n",
    "'ExtMetaScriptLinkRT',\n",
    "'PctExtNullSelfRedirectHyperlinksRT'\n",
    "]]\n",
    "y = data['CLASS_LABEL']"
   ]
  },
  {
   "cell_type": "code",
   "execution_count": 5,
   "metadata": {},
   "outputs": [],
   "source": [
    "clf = RandomForestClassifier(n_estimators=100, random_state=100)"
   ]
  },
  {
   "cell_type": "code",
   "execution_count": 6,
   "metadata": {},
   "outputs": [],
   "source": [
    "clf_fit = clf.fit(X, y)"
   ]
  },
  {
   "cell_type": "code",
   "execution_count": 7,
   "metadata": {},
   "outputs": [],
   "source": [
    "filename = \"Phish_Random_Forest_Model.sav\"\n",
    "pickle.dump(clf_fit, open(filename, 'wb'))"
   ]
  }
 ],
 "metadata": {
  "kernelspec": {
   "display_name": "Python 3.10.2 64-bit",
   "language": "python",
   "name": "python3"
  },
  "language_info": {
   "codemirror_mode": {
    "name": "ipython",
    "version": 3
   },
   "file_extension": ".py",
   "mimetype": "text/x-python",
   "name": "python",
   "nbconvert_exporter": "python",
   "pygments_lexer": "ipython3",
   "version": "3.10.2"
  },
  "orig_nbformat": 4,
  "vscode": {
   "interpreter": {
    "hash": "c017e2f0905ae4d894b949acae5faa8da6b08bb23461e260286cd646bef5317e"
   }
  }
 },
 "nbformat": 4,
 "nbformat_minor": 2
}
