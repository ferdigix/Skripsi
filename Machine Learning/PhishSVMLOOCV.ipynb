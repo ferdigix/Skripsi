{
 "cells": [
  {
   "cell_type": "code",
   "execution_count": 1,
   "metadata": {},
   "outputs": [],
   "source": [
    "import pandas as pd\n",
    "import numpy as np\n",
    "import matplotlib\n",
    "import matplotlib.pyplot as plt\n",
    "import seaborn as sb\n",
    "import pickle\n",
    "%matplotlib inline\n",
    "\n",
    "from sklearn.metrics import accuracy_score\n",
    "from sklearn.metrics import precision_score\n",
    "from sklearn.metrics import recall_score\n",
    "from sklearn.metrics import confusion_matrix\n",
    "from sklearn.svm import SVC\n",
    "\n",
    "from sklearn.model_selection import LeaveOneOut\n",
    "from sklearn.model_selection import cross_val_predict\n",
    "\n",
    "matplotlib.rcParams['font.size'] = 14\n",
    "matplotlib.rcParams['figure.figsize'] = (10, 6)"
   ]
  },
  {
   "cell_type": "code",
   "execution_count": 2,
   "metadata": {},
   "outputs": [],
   "source": [
    "data = pd.read_excel(\"./Phishing_Dataset.xlsx\")"
   ]
  },
  {
   "cell_type": "code",
   "execution_count": 3,
   "metadata": {},
   "outputs": [
    {
     "name": "stdout",
     "output_type": "stream",
     "text": [
      "0\n"
     ]
    }
   ],
   "source": [
    "missing_values_count = data.isnull().sum()\n",
    "total_missing = missing_values_count.sum()\n",
    "print(total_missing)"
   ]
  },
  {
   "cell_type": "code",
   "execution_count": 4,
   "metadata": {},
   "outputs": [],
   "source": [
    "X = data[['NumDots',\n",
    "'SubdomainLevel',\n",
    "'PathLevel',\n",
    "'UrlLength',\n",
    "'NumDash',\n",
    "'NumDashInHostname',\n",
    "'AtSymbol',\n",
    "'TildeSymbol',\n",
    "'NumUnderscore',\n",
    "'NumPercent',\n",
    "'NumQueryComponents',\n",
    "'NumAmpersand',\n",
    "'NumHash',\n",
    "'NumNumericChars',\n",
    "'NoHttps',\n",
    "'RandomString',\n",
    "'IpAddress',\n",
    "'DomainInSubdomains',\n",
    "'DomainInPaths',\n",
    "'HttpsInHostname',\n",
    "'HostnameLength',\n",
    "'PathLength',\n",
    "'QueryLength',\n",
    "'DoubleSlashInPath',\n",
    "'NumSensitiveWords',\n",
    "'EmbeddedBrandName',\n",
    "'PctExtHyperlinks',\n",
    "'PctExtResourceUrls',\n",
    "'ExtFavicon',\n",
    "'InsecureForms',\n",
    "'RelativeFormAction',\n",
    "'ExtFormAction',\n",
    "'AbnormalFormAction',\n",
    "'PctNullSelfRedirectHyperlinks',\n",
    "'FrequentDomainNameMismatch',\n",
    "'FakeLinkInStatusBar',\n",
    "'RightClickDisabled',\n",
    "'PopUpWindow',\n",
    "'SubmitInfoToEmail',\n",
    "'IframeOrFrame',\n",
    "'MissingTitle',\n",
    "'ImagesOnlyInForm',\n",
    "'SubdomainLevelRT',\n",
    "'UrlLengthRT',\n",
    "'PctExtResourceUrlsRT',\n",
    "'AbnormalExtFormActionR',\n",
    "'ExtMetaScriptLinkRT',\n",
    "'PctExtNullSelfRedirectHyperlinksRT'\n",
    "]]\n",
    "y = data['CLASS_LABEL']"
   ]
  },
  {
   "cell_type": "code",
   "execution_count": 5,
   "metadata": {},
   "outputs": [],
   "source": [
    "cv = LeaveOneOut()"
   ]
  },
  {
   "cell_type": "code",
   "execution_count": 6,
   "metadata": {},
   "outputs": [],
   "source": [
    "clf = SVC(kernel='linear')"
   ]
  },
  {
   "cell_type": "code",
   "execution_count": 7,
   "metadata": {},
   "outputs": [],
   "source": [
    "y_pred = cross_val_predict(clf, X, y, cv=cv)"
   ]
  },
  {
   "cell_type": "code",
   "execution_count": 8,
   "metadata": {},
   "outputs": [
    {
     "data": {
      "image/png": "[encoded data removed]",
      "text/plain": [
       "<Figure size 720x432 with 2 Axes>"
      ]
     },
     "metadata": {
      "needs_background": "light"
     },
     "output_type": "display_data"
    },
    {
     "name": "stdout",
     "output_type": "stream",
     "text": [
      "Accuracy: 0.975\n",
      "Presicion: 1.000\n",
      "Recall: 0.950\n"
     ]
    }
   ],
   "source": [
    "cf_matrix = confusion_matrix(y, y_pred)\n",
    "\n",
    "ax = sb.heatmap(cf_matrix, annot=True, fmt=\"d\", cmap='Blues')\n",
    "\n",
    "ax.set_title('Confusion Matrix\\n')\n",
    "ax.set_xlabel('Prediction')\n",
    "ax.set_ylabel('Actual')\n",
    "\n",
    "ax.xaxis.set_ticklabels(['False','True'])\n",
    "ax.yaxis.set_ticklabels(['False','True'])\n",
    "\n",
    "plt.show()\n",
    "\n",
    "print('Accuracy: %.3f' % accuracy_score(y, y_pred))\n",
    "print('Presicion: %.3f' % precision_score(y, y_pred))\n",
    "print('Recall: %.3f' % recall_score(y, y_pred))"
   ]
  },
  {
   "cell_type": "code",
   "execution_count": 9,
   "metadata": {},
   "outputs": [],
   "source": [
    "clf_fit = clf.fit(X, y)"
   ]
  },
  {
   "cell_type": "code",
   "execution_count": 10,
   "metadata": {},
   "outputs": [],
   "source": [
    "filename = \"Phish_SVM_CV_Model.sav\"\n",
    "pickle.dump(clf_fit, open(filename, 'wb'))"
   ]
  }
 ],
 "metadata": {
  "kernelspec": {
   "display_name": "Python 3.10.2 64-bit",
   "language": "python",
   "name": "python3"
  },
  "language_info": {
   "codemirror_mode": {
    "name": "ipython",
    "version": 3
   },
   "file_extension": ".py",
   "mimetype": "text/x-python",
   "name": "python",
   "nbconvert_exporter": "python",
   "pygments_lexer": "ipython3",
   "version": "3.10.2"
  },
  "orig_nbformat": 4,
  "vscode": {
   "interpreter": {
    "hash": "c017e2f0905ae4d894b949acae5faa8da6b08bb23461e260286cd646bef5317e"
   }
  }
 },
 "nbformat": 4,
 "nbformat_minor": 2
}
